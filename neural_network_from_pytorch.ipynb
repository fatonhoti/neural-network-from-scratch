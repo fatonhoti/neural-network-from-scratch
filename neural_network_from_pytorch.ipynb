{
 "cells": [
  {
   "cell_type": "code",
   "execution_count": 1,
   "id": "1094a22e-26b8-4f77-968e-d905ad9cb0d4",
   "metadata": {},
   "outputs": [],
   "source": [
    "from typing import Callable, Union\n",
    "\n",
    "import numpy as np\n",
    "import matplotlib.pyplot as plt\n",
    "\n",
    "import torch\n",
    "import torch.nn as nn\n",
    "from torch.utils.data import TensorDataset, DataLoader, Dataset\n",
    "\n",
    "from sklearn.model_selection import train_test_split"
   ]
  },
  {
   "cell_type": "markdown",
   "id": "9a6f84c9-c7c6-4dcd-b5f4-0ed404b0e2dd",
   "metadata": {},
   "source": [
    "#### Load MNIST dataset"
   ]
  },
  {
   "cell_type": "code",
   "execution_count": 2,
   "id": "afb2468a-bf52-4bb4-8359-f8ac340ec421",
   "metadata": {},
   "outputs": [],
   "source": [
    "from sklearn.datasets import fetch_openml\n",
    "mnist = fetch_openml(\"mnist_784\", version=1)"
   ]
  },
  {
   "cell_type": "code",
   "execution_count": 3,
   "id": "6b42244e-8111-4869-81cc-0600949e3731",
   "metadata": {},
   "outputs": [
    {
     "name": "stdout",
     "output_type": "stream",
     "text": [
      "len(x) = 70000\n",
      "len(y) = 70000\n"
     ]
    }
   ],
   "source": [
    "x = mnist[\"data\"].to_numpy()\n",
    "y = mnist[\"target\"].to_numpy()\n",
    "\n",
    "# normalize data\n",
    "x = x / 225.0\n",
    "y = y.astype(int)\n",
    "\n",
    "y_one_hot = np.zeros((y.size, y.max() + 1))\n",
    "y_one_hot[np.arange(y.size), y] = 1\n",
    "\n",
    "print(f\"len(x) = {len(x)}\")\n",
    "print(f\"len(y) = {len(y)}\")"
   ]
  },
  {
   "cell_type": "markdown",
   "id": "ef25eeb6-30cd-4a9e-801d-f93c21f0dab3",
   "metadata": {},
   "source": [
    "#### Split data"
   ]
  },
  {
   "cell_type": "code",
   "execution_count": 4,
   "id": "85d83aae-6040-4a9d-bdde-b00c2e5d79c6",
   "metadata": {},
   "outputs": [],
   "source": [
    "train_sz = 0.80\n",
    "\n",
    "ratio = 0.15 / 0.05\n",
    "test_sz = 1 / (1 + ratio)\n",
    "val_sz = 1 - test_sz\n",
    "\n",
    "x_train, x_rem, y_train, y_rem = train_test_split(x, y, train_size=train_sz)\n",
    "x_val, x_test, y_val, y_test = train_test_split(x_rem, y_rem, test_size=test_sz);"
   ]
  },
  {
   "cell_type": "markdown",
   "id": "94ebf3a8-4ee8-41c6-a8f3-d1fddc1d0a96",
   "metadata": {},
   "source": [
    "#### Create custom `torch.utils.data.Dataset` for the MNIST data"
   ]
  },
  {
   "cell_type": "code",
   "execution_count": 5,
   "id": "aaaf7ee5-8e58-4473-bda9-c47649d6ac18",
   "metadata": {},
   "outputs": [],
   "source": [
    "class MnistDataset(Dataset):\n",
    "    def __init__(self, torch_x, torch_y):\n",
    "        self.dataset = TensorDataset(torch.tensor(x, dtype=torch.float32), torch.tensor(y, dtype=torch.int64))\n",
    "\n",
    "    def __getitem__(self, idx):\n",
    "        return self.dataset[idx]\n",
    "\n",
    "    def __len__(self):\n",
    "        return len(self.dataset)"
   ]
  },
  {
   "cell_type": "markdown",
   "id": "208f0f9f-c97e-4bb6-8e71-ab8624ac3f3c",
   "metadata": {},
   "source": [
    "... and instantiate the above custom dataset for train/val/test"
   ]
  },
  {
   "cell_type": "code",
   "execution_count": 6,
   "id": "5ffb5078-79dc-4ba6-b0e9-738f49964d76",
   "metadata": {},
   "outputs": [],
   "source": [
    "ds_train = MnistDataset(x_train, y_train)\n",
    "ds_val = MnistDataset(x_val, y_val)\n",
    "ds_test = MnistDataset(x_test, y_test)"
   ]
  },
  {
   "cell_type": "markdown",
   "id": "5d9627bb-ea5e-4f9c-9caf-f60753016aaa",
   "metadata": {},
   "source": [
    "We also need to define some `torch.utils.data.Dataloader`"
   ]
  },
  {
   "cell_type": "code",
   "execution_count": 7,
   "id": "69e5b8b7-a0e4-4f4c-94fc-178e6cc5973c",
   "metadata": {},
   "outputs": [],
   "source": [
    "def new_dataloader(dataset, batch_size_=64, shuffle_=True):\n",
    "    return DataLoader(dataset, batch_size=batch_size_, shuffle=shuffle_)"
   ]
  },
  {
   "cell_type": "code",
   "execution_count": 8,
   "id": "c530ff13-f922-48a3-afca-3675fc453f29",
   "metadata": {},
   "outputs": [],
   "source": [
    "loader_train = new_dataloader(ds_train)\n",
    "loader_val = new_dataloader(ds_val)\n",
    "loader_test = new_dataloader(ds_test)"
   ]
  },
  {
   "cell_type": "markdown",
   "id": "4b658b3d-37f6-4604-a2c4-ee1cf9869102",
   "metadata": {},
   "source": [
    "### Now we need a training function and some other stuff"
   ]
  },
  {
   "cell_type": "code",
   "execution_count": 9,
   "id": "c54bdf22-9af1-4483-86ba-c3c866d81a6b",
   "metadata": {},
   "outputs": [],
   "source": [
    "def accuracy(y_pred: torch.Tensor, y_true: torch.Tensor) -> torch.Tensor:\n",
    "    correct = torch.sum(y_pred.argmax(dim=1) == y_true)\n",
    "    return correct / y_true.shape[0]\n",
    "\n",
    "def training_iteration(\n",
    "    model: nn.Module,\n",
    "    optimizer: torch.optim,\n",
    "    loss_fn: Union[Callable, nn.Module],\n",
    "    loader_train: torch.utils.data.DataLoader,\n",
    "    device: Union[str, torch.device]\n",
    "):\n",
    "    model.train()\n",
    "\n",
    "    avg_train_loss = 0.0\n",
    "    avg_train_acc = 0.0\n",
    "\n",
    "    n_batches = len(loader_train)\n",
    "\n",
    "    # loop over batches\n",
    "    for (x_train, y_train) in loader_train:\n",
    "        x_train, y_train = x_train.to(device), y_train.to(device)\n",
    "\n",
    "        preds = model(x_train)\n",
    "        loss = loss_fn(preds, y_train)\n",
    "\n",
    "        # The classic trio\n",
    "        optimizer.zero_grad()\n",
    "        loss.backward()\n",
    "        optimizer.step()\n",
    "\n",
    "        avg_train_loss += loss.item()\n",
    "        avg_train_acc += accuracy(preds, y_train).item()\n",
    "\n",
    "    avg_train_loss /= n_batches\n",
    "    avg_train_acc /= n_batches\n",
    "\n",
    "    return avg_train_loss, avg_train_acc\n",
    "\n",
    "def validation_iteration(\n",
    "    model: nn.Module,\n",
    "    optimizer: torch.optim,\n",
    "    loss_fn: Union[Callable, nn.Module],\n",
    "    loader_val: torch.utils.data.DataLoader,\n",
    "    device: Union[str, torch.device]\n",
    "):\n",
    "    model.eval()\n",
    "    \n",
    "    avg_val_loss = 0.0\n",
    "    avg_val_acc = 0\n",
    "\n",
    "    n_batches = len(loader_val)\n",
    "\n",
    "    # no backprop needed!\n",
    "    with torch.no_grad():\n",
    "\n",
    "        # loop over batches\n",
    "        for (x_val, y_val) in loader_val:\n",
    "            x_val, y_val = x_val.to(device), y_val.to(device)\n",
    "\n",
    "            preds = model(x_val)\n",
    "            loss = loss_fn(preds, y_val)\n",
    "            \n",
    "            avg_val_loss += loss.item()\n",
    "            avg_val_acc += accuracy(preds, y_val).item()\n",
    "\n",
    "    avg_val_loss /= n_batches\n",
    "    avg_val_acc /= n_batches\n",
    "\n",
    "    return avg_val_loss, avg_val_acc"
   ]
  },
  {
   "cell_type": "code",
   "execution_count": 10,
   "id": "fec27b58-48c2-4d0a-99a4-239f5215426e",
   "metadata": {},
   "outputs": [],
   "source": [
    "def accuracy(y_pred: torch.Tensor, y_true: torch.Tensor) -> torch.Tensor:\n",
    "    correct = torch.sum(y_pred.argmax(dim=1) == y_true)\n",
    "    return correct / y_true.shape[0]\n",
    "\n",
    "def train(\n",
    "    model: nn.Module,\n",
    "    optimizer: torch.optim,\n",
    "    loss_fn: Union[Callable, nn.Module],\n",
    "    loader_train: torch.utils.data.DataLoader,\n",
    "    loader_val: torch.utils.data.DataLoader,\n",
    "    n_epochs: int,\n",
    "    device: Union[str, torch.device],\n",
    "    print_every: int\n",
    "):\n",
    "    print(f\"Using device '{device}'\")\n",
    "    model.to(device)\n",
    "\n",
    "    train_loss_history = []\n",
    "    train_acc_history = []\n",
    "\n",
    "    val_loss_history = []\n",
    "    val_acc_history = []\n",
    "\n",
    "    print(f\"Training for {n_epochs} epochs.\")\n",
    "    for epoch in range(n_epochs):\n",
    "\n",
    "        avg_train_loss, avg_train_acc = training_iteration(model, optimizer, loss_fn, loader_train, device)\n",
    "        train_loss_history.append(avg_train_loss)\n",
    "        train_acc_history.append(avg_train_acc)\n",
    "\n",
    "        avg_val_loss, avg_val_acc = validation_iteration(model, optimizer, loss_fn, loader_val, device)\n",
    "        val_loss_history.append(avg_val_loss)\n",
    "        val_acc_history.append(avg_val_acc)\n",
    "\n",
    "        if (epoch == 0) or (epoch % print_every == 0) or (epoch == n_epochs - 1):\n",
    "            print(\n",
    "                f\"Epoch {epoch + 1}/{n_epochs} | \"\n",
    "                f\"Train Loss: {avg_train_loss:.4f}, Train Accuracy: {avg_train_acc:.4f} | \"\n",
    "                f\"Val Loss: {avg_val_loss:.4f}, Val Accuracy: {avg_val_acc:.4f}\"\n",
    "            )\n",
    "\n",
    "    return train_loss_history, train_acc_history, val_loss_history, val_acc_history"
   ]
  },
  {
   "cell_type": "markdown",
   "id": "271b3ae7-f153-4a0f-a186-b7eb27d4213d",
   "metadata": {},
   "source": [
    "## Cool, cool, cool, cool. We need an actual Neural Network now..."
   ]
  },
  {
   "cell_type": "code",
   "execution_count": 25,
   "id": "c844a7ea-bf55-413d-b689-1477b34b7ec5",
   "metadata": {},
   "outputs": [],
   "source": [
    "class NeuralNetwork(nn.Module):\n",
    "    def __init__(self):\n",
    "        super().__init__()\n",
    "        self.network = torch.nn.Sequential(\n",
    "            torch.nn.Linear(784, 1024),\n",
    "            torch.nn.ReLU(),\n",
    "            torch.nn.Linear(1024, 1024),\n",
    "            torch.nn.ReLU(),\n",
    "            torch.nn.Linear(1024, 512),\n",
    "            torch.nn.ReLU(),\n",
    "            torch.nn.Linear(512, 10),\n",
    "            torch.nn.Softmax(dim=1)\n",
    "        )\n",
    "\n",
    "    def forward(self, x):\n",
    "        return self.network(x)"
   ]
  },
  {
   "cell_type": "code",
   "execution_count": 26,
   "id": "d9c00950-2d24-4a03-8910-43f3aed62059",
   "metadata": {},
   "outputs": [
    {
     "name": "stdout",
     "output_type": "stream",
     "text": [
      "Using device 'cuda'\n",
      "Training for 10 epochs.\n",
      "Epoch 1/10 | Train Loss: 1.6203, Train Accuracy: 0.8620 | Val Loss: 1.5360, Val Accuracy: 0.9302\n",
      "Epoch 2/10 | Train Loss: 1.5246, Train Accuracy: 0.9413 | Val Loss: 1.5101, Val Accuracy: 0.9539\n",
      "Epoch 3/10 | Train Loss: 1.5086, Train Accuracy: 0.9547 | Val Loss: 1.5045, Val Accuracy: 0.9591\n",
      "Epoch 4/10 | Train Loss: 1.4983, Train Accuracy: 0.9650 | Val Loss: 1.4931, Val Accuracy: 0.9702\n",
      "Epoch 5/10 | Train Loss: 1.4922, Train Accuracy: 0.9706 | Val Loss: 1.4873, Val Accuracy: 0.9758\n",
      "Epoch 6/10 | Train Loss: 1.4873, Train Accuracy: 0.9750 | Val Loss: 1.4824, Val Accuracy: 0.9800\n",
      "Epoch 7/10 | Train Loss: 1.4841, Train Accuracy: 0.9782 | Val Loss: 1.4794, Val Accuracy: 0.9829\n",
      "Epoch 8/10 | Train Loss: 1.4811, Train Accuracy: 0.9812 | Val Loss: 1.4767, Val Accuracy: 0.9853\n",
      "Epoch 9/10 | Train Loss: 1.4788, Train Accuracy: 0.9832 | Val Loss: 1.4806, Val Accuracy: 0.9818\n",
      "Epoch 10/10 | Train Loss: 1.4775, Train Accuracy: 0.9845 | Val Loss: 1.4744, Val Accuracy: 0.9874\n"
     ]
    }
   ],
   "source": [
    "model = NeuralNetwork()\n",
    "\n",
    "optimizer = torch.optim.Adam(model.parameters(), lr=1e-4)\n",
    "loss_fn = torch.nn.CrossEntropyLoss()\n",
    "n_epochs = 10\n",
    "print_every = 1\n",
    "\n",
    "device = torch.device(\"cuda\" if torch.cuda.is_available() else \"cpu\")\n",
    "\n",
    "train_loss_history, train_acc_history, val_loss_history, val_acc_history = train(\n",
    "                                                                                model=model,\n",
    "                                                                                optimizer=optimizer,\n",
    "                                                                                loss_fn=loss_fn,\n",
    "                                                                                loader_train=loader_train,\n",
    "                                                                                loader_val=loader_val,\n",
    "                                                                                n_epochs=n_epochs,\n",
    "                                                                                device=device,\n",
    "                                                                                print_every=print_every\n",
    "                                                                            )"
   ]
  },
  {
   "cell_type": "code",
   "execution_count": 30,
   "id": "41c004c6-f129-42ec-a70c-ee6952c90551",
   "metadata": {},
   "outputs": [
    {
     "data": {
      "text/plain": [
       "<matplotlib.legend.Legend at 0x1fd9eec8290>"
      ]
     },
     "execution_count": 30,
     "metadata": {},
     "output_type": "execute_result"
    },
    {
     "data": {
      "image/png": "[encoded data removed]",
      "text/plain": [
       "<Figure size 640x480 with 2 Axes>"
      ]
     },
     "metadata": {},
     "output_type": "display_data"
    }
   ],
   "source": [
    "fig, (ax1, ax2) = plt.subplots(2, 1)\n",
    "fig.tight_layout()\n",
    "\n",
    "xs = np.arange(1, n_epochs + 1)\n",
    "\n",
    "ax1.plot(xs, train_loss_history, label=\"train\")\n",
    "ax1.plot(xs, val_loss_history, label=\"val\")\n",
    "ax1.set_xlabel(\"Epoch\")\n",
    "ax1.set_ylabel(\"Loss\")\n",
    "ax1.set_ylim([0, 2])\n",
    "ax1.legend()\n",
    "\n",
    "ax2.plot(xs, train_acc_history, label=\"train\")\n",
    "ax2.plot(xs, val_acc_history, label=\"val\")\n",
    "ax2.set_xlabel(\"Epoch\")\n",
    "ax2.set_ylabel(\"Accuracy\")\n",
    "ax2.set_ylim([0, 1])\n",
    "ax2.legend()"
   ]
  },
  {
   "cell_type": "code",
   "execution_count": 29,
   "id": "7f604f16-a178-4cba-9564-e87c2212ea8e",
   "metadata": {},
   "outputs": [
    {
     "name": "stdout",
     "output_type": "stream",
     "text": [
      "Test accuracy: 0.987.\n"
     ]
    }
   ],
   "source": [
    "n_correct = 0\n",
    "n_samples = 0\n",
    "\n",
    "device = torch.device(\"cuda\" if torch.cuda.is_available() else \"cpu\")\n",
    "\n",
    "model.eval()\n",
    "with torch.no_grad():\n",
    "    for (x_test, y_test) in loader_test:\n",
    "        x_test, y_test = x_test.to(device), y_test.to(device)\n",
    "        preds = model(x_test)\n",
    "        n_correct += (preds.argmax(dim=1) == y_test).sum().item()\n",
    "        n_samples += y_test.shape[0]\n",
    "\n",
    "acc = n_correct / n_samples\n",
    "\n",
    "print(f\"Test accuracy: {acc:.3f}.\")"
   ]
  },
  {
   "cell_type": "code",
   "execution_count": 31,
   "id": "7d1a5359-7a7a-45d6-9c3a-abc6d53a4bd1",
   "metadata": {},
   "outputs": [],
   "source": [
    "def visualize_prediction(model, loader_test):\n",
    "    x_test, y_test = next(iter(loader_test))\n",
    "    x_test, y_test = x_test.to(device), y_test.to(device)\n",
    "\n",
    "    sample_idx = 0\n",
    "    \n",
    "    y_pred = model.forward(x_test[sample_idx : sample_idx + 1])\n",
    "\n",
    "    # Gotta bring back to CPU otherwise matplotlib.pyplot will be angry at us\n",
    "    x_test = x_test.to(\"cpu\")\n",
    "    y_test = y_test.to(\"cpu\")\n",
    "    y_pred = y_pred.to(\"cpu\").detach()\n",
    "\n",
    "    plt.imshow(x_test[sample_idx].reshape(28, 28), cmap=\"gray\")\n",
    "    plt.title(\n",
    "        f\"Prediction: {np.argmax(y_pred)} | True label: {y_test[sample_idx]}\"\n",
    "    )\n",
    "    plt.axis(\"off\")\n",
    "    plt.show()"
   ]
  },
  {
   "cell_type": "code",
   "execution_count": 32,
   "id": "c4e1c246-29bb-4fa3-8846-b5dfc4255fa9",
   "metadata": {},
   "outputs": [
    {
     "data": {
      "image/png": "[encoded data removed]",
      "text/plain": [
       "<Figure size 640x480 with 1 Axes>"
      ]
     },
     "metadata": {},
     "output_type": "display_data"
    }
   ],
   "source": [
    "visualize_prediction(model, loader_test)"
   ]
  },
  {
   "cell_type": "markdown",
   "id": "bf6d1615-f17b-48fc-a214-a2ff4846f803",
   "metadata": {},
   "source": [
    "# Great Success! Very Nice!"
   ]
  }
 ],
 "metadata": {
  "kernelspec": {
   "display_name": "Python 3 (ipykernel)",
   "language": "python",
   "name": "python3"
  },
  "language_info": {
   "codemirror_mode": {
    "name": "ipython",
    "version": 3
   },
   "file_extension": ".py",
   "mimetype": "text/x-python",
   "name": "python",
   "nbconvert_exporter": "python",
   "pygments_lexer": "ipython3",
   "version": "3.11.10"
  }
 },
 "nbformat": 4,
 "nbformat_minor": 5
}
