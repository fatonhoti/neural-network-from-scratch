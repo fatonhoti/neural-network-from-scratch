{
 "cells": [
  {
   "cell_type": "code",
   "execution_count": 439,
   "id": "80a62236-f87d-4699-a0c6-5bd3b83e45b9",
   "metadata": {},
   "outputs": [],
   "source": [
    "import numpy as np\n",
    "import matplotlib.pyplot as plt"
   ]
  },
  {
   "cell_type": "markdown",
   "id": "46c7c89e-c352-43ca-b723-09dcf9438f97",
   "metadata": {},
   "source": [
    "### Let's start simple by implementing a neural network with one scalar input, one neuron, and one scalar output. \n",
    "\n",
    "We will be using the identity mapping as our activation function, i.e. $g(z=wx+b)=z$."
   ]
  },
  {
   "cell_type": "code",
   "execution_count": 440,
   "id": "e1f82098-86ab-40e4-858c-2921869e7b27",
   "metadata": {},
   "outputs": [],
   "source": [
    "def g(z):\n",
    "    return z"
   ]
  },
  {
   "cell_type": "code",
   "execution_count": 441,
   "id": "0d7c6ae5-8909-41a1-91e7-c05c72693625",
   "metadata": {},
   "outputs": [],
   "source": [
    "def forward(x, w, b):\n",
    "    return g(w * x + b)"
   ]
  },
  {
   "cell_type": "code",
   "execution_count": 442,
   "id": "9f8974af-93ef-439e-9dfa-ea2e4335f64e",
   "metadata": {},
   "outputs": [
    {
     "data": {
      "image/png": "[encoded data removed]",
      "text/plain": [
       "<Figure size 640x480 with 1 Axes>"
      ]
     },
     "metadata": {},
     "output_type": "display_data"
    }
   ],
   "source": [
    "w = 3.0\n",
    "b = 1.0\n",
    "\n",
    "xs = np.linspace(-3, 3, 1000)\n",
    "preds = [forward(x, w, b) for x in xs]\n",
    "\n",
    "plt.plot(xs, preds, label=f\"y = {w}x + {b}\")\n",
    "\n",
    "plt.xlabel(\"x\")\n",
    "plt.ylabel(\"y\")\n",
    "plt.legend()\n",
    "\n",
    "# also plot outlier point we are going to fit\n",
    "red_x, red_y = (0.5, 5)\n",
    "plt.plot(red_x, red_y, \"ro\", label=f\"({red_x}, {red_y})\")\n",
    "\n",
    "plt.show()"
   ]
  },
  {
   "cell_type": "markdown",
   "id": "e9073d29-2f26-4ad4-8080-c174443dc6f8",
   "metadata": {},
   "source": [
    "### Obviously the neural network we've defined absolutely sucks!\n",
    "\n",
    "Let's try and fix that."
   ]
  },
  {
   "cell_type": "markdown",
   "id": "5febe611-6b7f-4f48-98b7-42f83bebf6e7",
   "metadata": {},
   "source": [
    "# Loss function: Squared error"
   ]
  },
  {
   "cell_type": "code",
   "execution_count": 515,
   "id": "f6a14ba5-149a-4aa0-86fa-94aa0f820789",
   "metadata": {},
   "outputs": [],
   "source": [
    "def error(y_pred, y_true):\n",
    "    err = y_true - y_pred\n",
    "    return err * err"
   ]
  },
  {
   "cell_type": "markdown",
   "id": "3c087a1e-8074-4945-bae1-9efae2463279",
   "metadata": {},
   "source": [
    "### Derivative of the error with respect to the neural-network output $\\frac{\\partial e}{\\partial y}$\n",
    "\n",
    "A small nudge in $a = g(z=wx+b)$ causes a small nudge in the error..."
   ]
  },
  {
   "cell_type": "code",
   "execution_count": 516,
   "id": "9e79593c-b396-4637-b326-a8d140f1d0aa",
   "metadata": {},
   "outputs": [],
   "source": [
    "def de_dz(y_pred, y_true):\n",
    "    derivative = -2 * (y_true - y_pred)\n",
    "    return derivative"
   ]
  },
  {
   "cell_type": "markdown",
   "id": "5faea828-7573-493e-8fa8-04047dbd1b85",
   "metadata": {},
   "source": [
    "### Derivative of $z$ with respect to the parameter $w$: $\\frac{\\partial z}{\\partial w}$\n",
    "\n",
    "... and a small nudge of $w$ causes a small nudge in $z$..."
   ]
  },
  {
   "cell_type": "code",
   "execution_count": 517,
   "id": "fc733ab8-e64c-43bb-8884-ece9425b4e3b",
   "metadata": {},
   "outputs": [],
   "source": [
    "def dz_dw(x):\n",
    "    # neuron computes z=wx+b => dz/dw = x\n",
    "    derivative = x\n",
    "    return derivative"
   ]
  },
  {
   "cell_type": "markdown",
   "id": "baba3b80-19b3-4e9f-b9a3-8bc25a046b81",
   "metadata": {},
   "source": [
    "### Derivative of the $z$ with respect to the parameter $b$: $\\frac{\\partial z}{\\partial b}$\n",
    "\n",
    "... and a small nudge of $b$ also causes a small nudge in $z$."
   ]
  },
  {
   "cell_type": "code",
   "execution_count": 518,
   "id": "5069ff3f-30eb-45de-87dc-74f133fd146d",
   "metadata": {},
   "outputs": [],
   "source": [
    "def dz_db():\n",
    "    # neuron computes z=wx+b => dz/db = 1\n",
    "    derivative = 1\n",
    "    return derivative"
   ]
  },
  {
   "cell_type": "markdown",
   "id": "97a58a49-8fc8-4026-b515-27c068992f99",
   "metadata": {},
   "source": [
    "### Now we can express how the error changes whenever we change the parameters $w$ and $b$.\n",
    "\n",
    "The [Chain rule](https://en.wikipedia.org/wiki/Chain_rule) is my friend here."
   ]
  },
  {
   "cell_type": "markdown",
   "id": "19a80f3f-9d93-43a7-bb18-6e77f7f1f9a3",
   "metadata": {},
   "source": [
    "### Derivative of $e$ with respect to the parameter $w$: $\\frac{\\partial e}{\\partial w}$"
   ]
  },
  {
   "cell_type": "code",
   "execution_count": 519,
   "id": "8d4acbe2-33b7-4209-866e-36ce880d24f2",
   "metadata": {},
   "outputs": [],
   "source": [
    "def de_dw(x, y_pred, y_true):\n",
    "    # a small nudge in w causes a small nudge in z... which causes a small nudge in e\n",
    "    derivative = dz_dw(x) * de_dz(y_pred, y_true)\n",
    "    return derivative"
   ]
  },
  {
   "cell_type": "markdown",
   "id": "c40ecd28-5d13-44d2-8dea-37bdfface8f7",
   "metadata": {},
   "source": [
    "### Derivative of $e$ with respect to the parameter $b$: $\\frac{\\partial e}{\\partial b}$"
   ]
  },
  {
   "cell_type": "code",
   "execution_count": 520,
   "id": "6b68d775-3910-4da5-9839-97e395fcd8bf",
   "metadata": {},
   "outputs": [],
   "source": [
    "def de_db(y_pred, y_true):\n",
    "    # a small nudge in b causes a small nudge in z... which causes a small nudge in e\n",
    "    derivative = dz_db() * de_dz(y_pred, y_true)\n",
    "    return derivative"
   ]
  },
  {
   "cell_type": "markdown",
   "id": "ddb0193a-0e0b-4dc8-8346-1b6965a61381",
   "metadata": {},
   "source": [
    "## We are now ready to do some training!\n",
    "\n",
    "We start by quickly defining a 'step' function (similar to what `optimizer.step()` is in Pytorch) which updates the parameters."
   ]
  },
  {
   "cell_type": "code",
   "execution_count": 521,
   "id": "bfc4a5f0-795a-4ec5-a5e8-aba489b2227a",
   "metadata": {},
   "outputs": [],
   "source": [
    "def step(w, b, dedw, dedb, learning_rate=1e-1):\n",
    "    w -= learning_rate * dedw\n",
    "    b -= learning_rate * dedb\n",
    "    return w, b"
   ]
  },
  {
   "cell_type": "markdown",
   "id": "e41c9378-3667-40a7-8d3c-984f64001cd4",
   "metadata": {},
   "source": [
    "Now we train!\n",
    "\n",
    "Let's try and fit our neural network to the red point shown earlier."
   ]
  },
  {
   "cell_type": "code",
   "execution_count": 522,
   "id": "c47a3b87-8b9e-43bc-890a-e262dc0871b9",
   "metadata": {},
   "outputs": [],
   "source": [
    "def fit(x, w, b, y_true, iterations=10, learning_rate=1e-3):\n",
    "    for i in range(iterations):\n",
    "        y_pred = w*x + b\n",
    "        dedw = de_dw(x, y_pred, y_true)\n",
    "        dedb = de_db(y_pred, y_true)\n",
    "        w, b = step(w, b, dedw, dedb, learning_rate)\n",
    "        print(f\"Iteration {i + 1} | Error: {error(y_true, y_pred)}\")\n",
    "    return w, b"
   ]
  },
  {
   "cell_type": "code",
   "execution_count": 523,
   "id": "473593e3-ede2-43a0-bbfb-9692c4a14f5f",
   "metadata": {},
   "outputs": [
    {
     "name": "stdout",
     "output_type": "stream",
     "text": [
      "old_w=3.0, old_b=1.0\n",
      "\n",
      "Iteration 1 | Error: 6.25\n",
      "Iteration 2 | Error: 3.515625\n",
      "Iteration 3 | Error: 1.9775390625\n",
      "Iteration 4 | Error: 1.11236572265625\n",
      "Iteration 5 | Error: 0.6257057189941406\n",
      "Iteration 6 | Error: 0.3519594669342041\n",
      "Iteration 7 | Error: 0.1979772001504898\n",
      "Iteration 8 | Error: 0.11136217508465052\n",
      "Iteration 9 | Error: 0.06264122348511592\n",
      "Iteration 10 | Error: 0.0352356882103777\n",
      "\n",
      "new_w=3.9436864852905273, new_b=2.8873729705810547\n"
     ]
    }
   ],
   "source": [
    "# red_point = (red_x, red_y)\n",
    "print(f\"old_w={w}, old_b={b}\\n\")\n",
    "w_opt, b_opt = fit(red_x, w, b, red_y, iterations=10, learning_rate=1e-1)\n",
    "print(f\"\\nnew_w={w_opt}, new_b={b_opt}\")"
   ]
  },
  {
   "cell_type": "code",
   "execution_count": 524,
   "id": "27c413d0-c527-452a-916e-703f7b99d344",
   "metadata": {},
   "outputs": [
    {
     "data": {
      "image/png": "[encoded data removed]",
      "text/plain": [
       "<Figure size 640x480 with 1 Axes>"
      ]
     },
     "metadata": {},
     "output_type": "display_data"
    }
   ],
   "source": [
    "xs = np.linspace(-3, 3, 1000)\n",
    "preds = [forward(x, w_opt, b_opt) for x in xs]\n",
    "\n",
    "plt.plot(xs, preds, label=f\"y = {w_opt}x + {b_opt}\")\n",
    "\n",
    "plt.xlabel(\"x\")\n",
    "plt.ylabel(\"y\")\n",
    "plt.legend()\n",
    "\n",
    "# also plot outlier point we are going to fit\n",
    "plt.plot(red_x, red_y, \"ro\", label=f\"({red_x}, {red_y})\")\n",
    "\n",
    "plt.show()"
   ]
  },
  {
   "cell_type": "markdown",
   "id": "563fc109-badf-4e49-8aed-340e096193ec",
   "metadata": {},
   "source": [
    "# Great Success! Very Nice!\n",
    "\n",
    "We managed to fit a straight line to one data point, incredible! It's truly amazing what you can do with AI......yeah."
   ]
  },
  {
   "cell_type": "markdown",
   "id": "fda08f95-5e2a-4828-b770-9fa953a1d6df",
   "metadata": {},
   "source": [
    "### Alright, cool... I guess?\n",
    "\n",
    "#### Let's start doing some more fun stuff.\n",
    "\n",
    "We're going to enlist the good ol' [Rectified Linear Unit (ReLU)](https://en.wikipedia.org/wiki/Rectifier_(neural_networks)) to act as our activation function $g(z) = ReLU(z)$."
   ]
  },
  {
   "cell_type": "code",
   "execution_count": 525,
   "id": "c454175b-282a-4bd2-924e-6df9d627595d",
   "metadata": {},
   "outputs": [],
   "source": [
    "def ReLU(z):\n",
    "    return np.maximum(z, 0)\n",
    "\n",
    "def ReLU_derivative(x):\n",
    "    return np.greater(x, 0).astype(int)"
   ]
  },
  {
   "cell_type": "markdown",
   "id": "5c10ef16-47b2-476a-ad19-0dc8f48122eb",
   "metadata": {},
   "source": [
    "#### Let's implement another activation function [Softmax](https://en.wikipedia.org/wiki/Softmax_function) which we'll use shortly."
   ]
  },
  {
   "cell_type": "code",
   "execution_count": 527,
   "id": "3bdf99dd-efb8-431c-bb47-ab392e37f13d",
   "metadata": {},
   "outputs": [],
   "source": [
    "def Softmax(z):\n",
    "    z_max = z - np.max(z, axis=1, keepdims=True)\n",
    "    exp_z_max = np.exp(z_max)\n",
    "    return exp_z_max / np.sum(exp_z_max, axis=1, keepdims=True)"
   ]
  },
  {
   "cell_type": "markdown",
   "id": "1afaba6e-2d45-4fcb-8dbd-9a9328c7c1ae",
   "metadata": {},
   "source": [
    "#### Cool, cool, cool, cool.\n",
    "\n",
    "While we're at it, let's abstract away some stuff..."
   ]
  },
  {
   "cell_type": "code",
   "execution_count": 528,
   "id": "84c5eb86-d075-4d01-845f-0ddba388722d",
   "metadata": {},
   "outputs": [],
   "source": [
    "class Layer:\n",
    "    def __init__(self):\n",
    "        # For simplicity's sake, let's hard code the use of ReLU as the activation function for a layer.\n",
    "        self.g = ReLU\n",
    "        self.g_derivative = ReLU_derivative\n",
    "\n",
    "        # He initialization: https://www.deeplearning.ai/ai-notes/initialization/index.html\n",
    "        self.w = np.random.rand() * np.sqrt(2)\n",
    "        self.b = 0\n",
    "\n",
    "        self.input = None\n",
    "        self.activation = None\n",
    "\n",
    "    def forward(self, x):\n",
    "        self.input = x\n",
    "\n",
    "        activation = self.g(self.w*x + self.b)\n",
    "        self.activation = activation\n",
    "\n",
    "        return activation\n",
    "\n",
    "    def backward(self, deda, learning_rate=1e-2):\n",
    "        dzdw = dz_dw(self.input)\n",
    "        dzdb = dz_db()\n",
    "\n",
    "        dadz = self.g_derivative(self.activation)\n",
    "        \n",
    "        dadz_deda = dadz * deda\n",
    "        dedw = dzdw * dadz_deda\n",
    "        dedb = dzdb * dadz_deda\n",
    "\n",
    "        # update parameters\n",
    "        self.w -= learning_rate * dedw\n",
    "        self.b -= learning_rate * dedb\n",
    "\n",
    "        dzdx = self.w\n",
    "        dedx = dzdx * dadz_deda\n",
    "\n",
    "        return dedx"
   ]
  },
  {
   "cell_type": "code",
   "execution_count": 530,
   "id": "21f8984c-9909-49f7-86ae-3ea1e96cd990",
   "metadata": {},
   "outputs": [],
   "source": [
    "class NeuralNetwork:\n",
    "    def __init__(self):\n",
    "        self.layers = []\n",
    "\n",
    "    def add_layer(self, layer):\n",
    "        self.layers.append(layer)\n",
    "        return self\n",
    "\n",
    "    def forward(self, x):\n",
    "        for layer in self.layers:\n",
    "            x = layer.forward(x)\n",
    "        return x\n",
    "\n",
    "    def backward(self, deda, learning_rate=1e-2):\n",
    "        for layer in self.layers[::-1]: # notice in reverse!\n",
    "            deda = layer.backward(deda, learning_rate)"
   ]
  },
  {
   "cell_type": "markdown",
   "id": "1afbfc44-58a7-44ce-9057-d871a596258e",
   "metadata": {},
   "source": [
    "### Let's test this bad boy out with almost the same example as earlier."
   ]
  },
  {
   "cell_type": "code",
   "execution_count": 531,
   "id": "739a622b-d750-4254-9710-aec491293715",
   "metadata": {},
   "outputs": [
    {
     "name": "stdout",
     "output_type": "stream",
     "text": [
      "# of hidden layers = 2\n"
     ]
    }
   ],
   "source": [
    "neural_network = NeuralNetwork()\n",
    "\n",
    "# Two layers this time, we're getting fancy over here!\n",
    "l1 = Layer()\n",
    "l2 = Layer()\n",
    "neural_network.add_layer(l1).add_layer(l2)\n",
    "\n",
    "print(f\"# of hidden layers = {len(neural_network.layers)}\")"
   ]
  },
  {
   "cell_type": "code",
   "execution_count": 532,
   "id": "68df6278-5e4e-45f0-ad68-de36ce94e7ad",
   "metadata": {},
   "outputs": [
    {
     "data": {
      "image/png": "[encoded data removed]",
      "text/plain": [
       "<Figure size 640x480 with 1 Axes>"
      ]
     },
     "metadata": {},
     "output_type": "display_data"
    }
   ],
   "source": [
    "xs = np.linspace(-3, 3, 1000)\n",
    "preds = neural_network.forward(xs) # vectorized implementation, nice!\n",
    "\n",
    "plt.plot(xs, preds, label=f\"Our fancy neural network!\")\n",
    "\n",
    "plt.xlabel(\"x\")\n",
    "plt.ylabel(\"y\")\n",
    "\n",
    "# also plot outlier point we are going to fit\n",
    "plt.plot(red_x, red_y, \"ro\", label=f\"({red_x}, {red_y})\")\n",
    "\n",
    "plt.legend()\n",
    "plt.show()"
   ]
  },
  {
   "cell_type": "markdown",
   "id": "1c0c65d0-5a2a-489c-8fd3-e146876fa36a",
   "metadata": {},
   "source": [
    "#### Yeah... what'd you expect?\n",
    "\n",
    "Let's train it."
   ]
  },
  {
   "cell_type": "code",
   "execution_count": 533,
   "id": "56e796c0-a3f4-4355-bb21-61b3c0763d1f",
   "metadata": {},
   "outputs": [],
   "source": [
    "def train(model, x, y_true, iterations=10, learning_rate=1e-2):\n",
    "    for i in range(iterations):\n",
    "        y_pred = model.forward(x)\n",
    "        deda = de_dz(y_pred, y_true)\n",
    "        model.backward(deda)\n",
    "        print(f\"Iteration {i + 1} | Error: {error(y_pred, y_true)}\")"
   ]
  },
  {
   "cell_type": "code",
   "execution_count": 535,
   "id": "14547162-f189-45d9-870f-bf8ca5e66dbe",
   "metadata": {},
   "outputs": [
    {
     "name": "stdout",
     "output_type": "stream",
     "text": [
      "Iteration 1 | Error: 5.352245234432288\n",
      "Iteration 2 | Error: 4.401840407645961\n",
      "Iteration 3 | Error: 3.560396997046081\n",
      "Iteration 4 | Error: 2.832191081106218\n",
      "Iteration 5 | Error: 2.2163040084173247\n",
      "Iteration 6 | Error: 1.7071103825262797\n",
      "Iteration 7 | Error: 1.2952883345826065\n",
      "Iteration 8 | Error: 0.9691115676910597\n",
      "Iteration 9 | Error: 0.7157673424937743\n",
      "Iteration 10 | Error: 0.5224957571734969\n",
      "Iteration 11 | Error: 0.37743255516629237\n",
      "Iteration 12 | Error: 0.27012584605934137\n",
      "Iteration 13 | Error: 0.19176270520615213\n",
      "Iteration 14 | Error: 0.13517622998974269\n",
      "Iteration 15 | Error: 0.09471112989248388\n"
     ]
    }
   ],
   "source": [
    "train(neural_network, red_x, red_y, iterations=15, learning_rate=1e-1)"
   ]
  },
  {
   "cell_type": "code",
   "execution_count": 536,
   "id": "29d8cf08-b3f9-405a-8d0a-4f71451e7a9d",
   "metadata": {},
   "outputs": [
    {
     "data": {
      "image/png": "[encoded data removed]",
      "text/plain": [
       "<Figure size 640x480 with 1 Axes>"
      ]
     },
     "metadata": {},
     "output_type": "display_data"
    }
   ],
   "source": [
    "xs = np.linspace(-3, 3, 1000)\n",
    "preds = neural_network.forward(xs) # vectorized implementation, nice!\n",
    "\n",
    "plt.plot(xs, preds, label=f\"Our fancy neural network!\")\n",
    "\n",
    "plt.xlabel(\"x\")\n",
    "plt.ylabel(\"y\")\n",
    "\n",
    "# also plot outlier point we are going to fit\n",
    "plt.plot(red_x, red_y, \"ro\", label=f\"({red_x}, {red_y})\")\n",
    "\n",
    "plt.legend()\n",
    "plt.show()"
   ]
  },
  {
   "cell_type": "markdown",
   "id": "d4da61c4-dc50-43b5-85ab-266ede70e6a7",
   "metadata": {},
   "source": [
    "# Great Success! Very Nice!"
   ]
  },
  {
   "cell_type": "markdown",
   "id": "5b9dad3d-7d6e-4ee5-8b0a-a77b875454a2",
   "metadata": {},
   "source": [
    "#### Alright, let's level up again and start working with more than just some scalars."
   ]
  },
  {
   "cell_type": "markdown",
   "id": "97d05d6e-8fae-40f4-8e32-ea0f70f8a911",
   "metadata": {},
   "source": [
    "#### Let's redefine our Layer"
   ]
  },
  {
   "cell_type": "code",
   "execution_count": 537,
   "id": "99ee33d9-d4e4-4ec3-8a57-aa2fad86eeda",
   "metadata": {},
   "outputs": [],
   "source": [
    "class Layer:\n",
    "    def __init__(self, input_dim, output_dim, g=ReLU):\n",
    "        self.g = g\n",
    "\n",
    "        # He initialization\n",
    "        stddev = np.sqrt(2.0 / input_dim)\n",
    "        self.w = np.random.normal(loc=0.0, scale=stddev, size=(input_dim, output_dim))\n",
    "        self.b = np.zeros((1, output_dim))\n",
    "\n",
    "        self.input = None\n",
    "        self.activation = None\n",
    "\n",
    "    def forward(self, x):\n",
    "        self.input = x\n",
    "\n",
    "        z = np.dot(x, self.w) + self.b\n",
    "        self.activation = self.g(z)\n",
    "\n",
    "        return self.activation\n",
    "\n",
    "    def backward(self, gradient, learning_rate=1e-2):\n",
    "        if self.g == ReLU: # true for all layers except output layer\n",
    "            gradient *= ReLU_derivative(self.activation)\n",
    "\n",
    "        dedw = np.dot(self.input.T, gradient)\n",
    "        dedb = np.sum(gradient, axis=0, keepdims=True)\n",
    "\n",
    "        self.w -= learning_rate * dedw\n",
    "        self.b -= learning_rate * dedb\n",
    "\n",
    "        dzdx = self.w.T\n",
    "        dedx = np.dot(gradient, dzdx)\n",
    "\n",
    "        return dedx"
   ]
  },
  {
   "cell_type": "markdown",
   "id": "3d2272e9-c8bf-4768-84f4-a1b49d57281d",
   "metadata": {},
   "source": [
    "#### ...and our Neural Network"
   ]
  },
  {
   "cell_type": "code",
   "execution_count": 538,
   "id": "df036cb6-4587-4b01-acfb-6ff67a900b4a",
   "metadata": {},
   "outputs": [],
   "source": [
    "class NeuralNetwork:\n",
    "    def __init__(self, input_dim, layer_dims):\n",
    "        self.layers = []\n",
    "\n",
    "        nof_layers = len(layer_dims)\n",
    "        layer_dims = [input_dim] + layer_dims\n",
    "        for l in range(1, len(layer_dims)):\n",
    "            # use ReLU for all layers except the output layer where we use Softmax\n",
    "            act_fn = ReLU if l < nof_layers else Softmax\n",
    "            self.layers.append(Layer(layer_dims[l - 1], layer_dims[l], act_fn))\n",
    "\n",
    "    def forward(self, x):\n",
    "        for layer in self.layers:\n",
    "            x = layer.forward(x)\n",
    "        return x\n",
    "\n",
    "    def backward(self, gradient, lr):\n",
    "        for layer in self.layers[::-1]:\n",
    "            gradient = layer.backward(gradient, lr)"
   ]
  },
  {
   "cell_type": "markdown",
   "id": "7e37a450-4fcc-4950-b9b5-860e26c909a8",
   "metadata": {},
   "source": [
    "#### ...we're also going to need some utility functions"
   ]
  },
  {
   "cell_type": "code",
   "execution_count": 539,
   "id": "5c91e0a0-7823-4922-882d-b8489bb83936",
   "metadata": {},
   "outputs": [],
   "source": [
    "def loss(y_pred, y_true):\n",
    "    epsilon = 1e-10\n",
    "    p = np.clip(y_pred, epsilon, 1 - epsilon)\n",
    "\n",
    "    # https://en.wikipedia.org/wiki/Likelihood_function\n",
    "    # https://en.wikipedia.org/wiki/Cross-entropy\n",
    "    log_likelihood = -np.sum(y_true * np.log(p)) / y_true.shape[0]\n",
    "\n",
    "    return log_likelihood\n",
    "\n",
    "def loss_grad(y_pred, y_true):\n",
    "    return (y_pred - y_true) / y_true.shape[0]"
   ]
  },
  {
   "cell_type": "markdown",
   "id": "4f87a239-3961-4ab2-b87d-20bf100d4ad8",
   "metadata": {},
   "source": [
    "#### ...and a new training function"
   ]
  },
  {
   "cell_type": "code",
   "execution_count": 540,
   "id": "85743ec5-baa8-45c5-b863-c3ae85e366ee",
   "metadata": {},
   "outputs": [],
   "source": [
    "def train(model, x_train, y_train, iters, lr):\n",
    "    for i in range(iters):\n",
    "        preds = model.forward(x_train)\n",
    "        l = loss(preds, y_train)\n",
    "        deda = loss_grad(preds, y_train)\n",
    "        model.backward(deda, lr)\n",
    "        print(f\"Iteration {i + 1}/{iters} | Loss: {l:.2f}\")"
   ]
  },
  {
   "cell_type": "markdown",
   "id": "2a89e1bd-412e-4001-a5e3-722678adbfd3",
   "metadata": {},
   "source": [
    "## Alright. We've got some basic machinery up and running, let's use it on a more fun example.\n",
    "\n",
    "Gooooooood ooooold [MNIST](https://yann.lecun.com/exdb/mnist/)!"
   ]
  },
  {
   "cell_type": "code",
   "execution_count": 541,
   "id": "1973f50d-bc70-43a3-8247-1c44597e6b15",
   "metadata": {},
   "outputs": [],
   "source": [
    "from sklearn.datasets import fetch_openml\n",
    "mnist = fetch_openml(\"mnist_784\", version=1)"
   ]
  },
  {
   "cell_type": "code",
   "execution_count": 542,
   "id": "393168c1-ae5f-4fe5-95e5-5eee321f60cb",
   "metadata": {},
   "outputs": [
    {
     "name": "stdout",
     "output_type": "stream",
     "text": [
      "len(x) = 70000\n",
      "len(y) = 70000\n"
     ]
    }
   ],
   "source": [
    "x = mnist[\"data\"].to_numpy()\n",
    "y = mnist[\"target\"].to_numpy()\n",
    "\n",
    "# normalize data\n",
    "x = x / 225.0\n",
    "y = y.astype(int)\n",
    "\n",
    "y_one_hot = np.zeros((y.size, y.max() + 1))\n",
    "y_one_hot[np.arange(y.size), y] = 1\n",
    "\n",
    "print(f\"len(x) = {len(x)}\")\n",
    "print(f\"len(y) = {len(y)}\")"
   ]
  },
  {
   "cell_type": "code",
   "execution_count": 543,
   "id": "a5ccdbc9-eb4e-4c7a-a634-4eeea3e134c1",
   "metadata": {},
   "outputs": [
    {
     "name": "stdout",
     "output_type": "stream",
     "text": [
      "x_train shape: (59500, 784)\n",
      "y_train shape: (59500, 10)\n",
      "\n",
      "x_test shape: (10500, 784)\n",
      "y_test shape: (10500, 10)\n"
     ]
    }
   ],
   "source": [
    "# 85/15 split\n",
    "\n",
    "nof_train_samples = int(len(x) * 0.85)\n",
    "\n",
    "x_train, x_test = x[:nof_train_samples], x[nof_train_samples:]\n",
    "y_train, y_test = y_one_hot[:nof_train_samples], y_one_hot[nof_train_samples:]\n",
    "\n",
    "print(f\"x_train shape: {x_train.shape}\")\n",
    "print(f\"y_train shape: {y_train.shape}\")\n",
    "print()\n",
    "print(f\"x_test shape: {x_test.shape}\")\n",
    "print(f\"y_test shape: {y_test.shape}\")"
   ]
  },
  {
   "cell_type": "code",
   "execution_count": 544,
   "id": "c4e0425e-b1cc-4123-842c-0c7a72b2bfc1",
   "metadata": {},
   "outputs": [
    {
     "data": {
      "image/png": "[encoded data removed]",
      "text/plain": [
       "<Figure size 640x480 with 6 Axes>"
      ]
     },
     "metadata": {},
     "output_type": "display_data"
    }
   ],
   "source": [
    "# let's take a quick look at some samples...\n",
    "n_samples = 6\n",
    "fig, axs = plt.subplots(1, n_samples)\n",
    "for i in range(n_samples):\n",
    "    axs[i].imshow(x_train[i].reshape(28, 28), cmap=\"gray\")\n",
    "    axs[i].set_title(f\"Label: {np.argmax(y_train[i])}\")\n",
    "    axs[i].axis(\"off\")\n",
    "plt.show()"
   ]
  },
  {
   "cell_type": "markdown",
   "id": "a3e342de-fd86-4252-b8c6-1fba7daad32b",
   "metadata": {},
   "source": [
    "### Let's train our neural network to classify handwritten digits"
   ]
  },
  {
   "cell_type": "code",
   "execution_count": 545,
   "id": "c8807978-0fca-40c2-b32a-8bf4f6a22e88",
   "metadata": {},
   "outputs": [],
   "source": [
    "def accuracy(model, x_test, y_test):\n",
    "    preds = model.forward(x_test)\n",
    "\n",
    "    predicted_labels = np.argmax(preds, axis=1)\n",
    "    true_labels = np.argmax(y_test, axis=1)\n",
    "\n",
    "    correct = np.sum(predicted_labels == true_labels)\n",
    "\n",
    "    acc = correct / x_test.shape[0]\n",
    "    return acc"
   ]
  },
  {
   "cell_type": "code",
   "execution_count": 546,
   "id": "125ba7ed-4e50-46a5-be03-0afc7919ebe0",
   "metadata": {},
   "outputs": [
    {
     "name": "stdout",
     "output_type": "stream",
     "text": [
      "Accuracy before training = 0.10828571428571429\n"
     ]
    }
   ],
   "source": [
    "model = NeuralNetwork(784, [256, 256, 10])\n",
    "\n",
    "acc_pre_train = accuracy(model, x_test, y_test)\n",
    "print(f\"Accuracy before training = {acc_pre_train}\")"
   ]
  },
  {
   "cell_type": "markdown",
   "id": "27e6f073-2844-4570-9ca0-7973b155ca58",
   "metadata": {},
   "source": [
    "#### ... that's not particularly good."
   ]
  },
  {
   "cell_type": "markdown",
   "id": "782f8eb2-9745-4dd6-8e42-54e263aebb55",
   "metadata": {},
   "source": [
    "#### ... let's train"
   ]
  },
  {
   "cell_type": "code",
   "execution_count": 547,
   "id": "b15020ec-2801-4418-b794-38b8891446f6",
   "metadata": {},
   "outputs": [
    {
     "name": "stdout",
     "output_type": "stream",
     "text": [
      "Iteration 1/25 | Loss: 2.41\n",
      "Iteration 2/25 | Loss: 2.23\n",
      "Iteration 3/25 | Loss: 2.11\n",
      "Iteration 4/25 | Loss: 1.99\n",
      "Iteration 5/25 | Loss: 1.89\n",
      "Iteration 6/25 | Loss: 1.78\n",
      "Iteration 7/25 | Loss: 1.68\n",
      "Iteration 8/25 | Loss: 1.58\n",
      "Iteration 9/25 | Loss: 1.48\n",
      "Iteration 10/25 | Loss: 1.39\n",
      "Iteration 11/25 | Loss: 1.31\n",
      "Iteration 12/25 | Loss: 1.23\n",
      "Iteration 13/25 | Loss: 1.16\n",
      "Iteration 14/25 | Loss: 1.09\n",
      "Iteration 15/25 | Loss: 1.03\n",
      "Iteration 16/25 | Loss: 0.98\n",
      "Iteration 17/25 | Loss: 0.93\n",
      "Iteration 18/25 | Loss: 0.89\n",
      "Iteration 19/25 | Loss: 0.85\n",
      "Iteration 20/25 | Loss: 0.81\n",
      "Iteration 21/25 | Loss: 0.78\n",
      "Iteration 22/25 | Loss: 0.76\n",
      "Iteration 23/25 | Loss: 0.73\n",
      "Iteration 24/25 | Loss: 0.71\n",
      "Iteration 25/25 | Loss: 0.69\n"
     ]
    }
   ],
   "source": [
    "train(model, x_train, y_train, 25, 1e-1)"
   ]
  },
  {
   "cell_type": "code",
   "execution_count": 548,
   "id": "dad29a5e-d90e-4e13-8eee-591da1007937",
   "metadata": {},
   "outputs": [
    {
     "name": "stdout",
     "output_type": "stream",
     "text": [
      "Accuracy after training = 0.8537142857142858\n"
     ]
    }
   ],
   "source": [
    "acc_after_train = accuracy(model, x_test, y_test)\n",
    "print(f\"Accuracy after training = {acc_after_train}\")"
   ]
  },
  {
   "cell_type": "markdown",
   "id": "a4bcaf91-b245-40c4-82d7-d14e20ada206",
   "metadata": {},
   "source": [
    "### Let's visualize a prediction"
   ]
  },
  {
   "cell_type": "code",
   "execution_count": 549,
   "id": "3eadf0a5-fa57-4abf-bc44-33edc8a3d295",
   "metadata": {},
   "outputs": [],
   "source": [
    "def visualize_prediction(model, x_test, y_test, sample_idx):\n",
    "    y_pred = model.forward(x_test[sample_idx : sample_idx + 1])\n",
    "    plt.imshow(x_test[sample_idx].reshape(28, 28), cmap=\"gray\")\n",
    "    plt.title(\n",
    "        f\"Prediction: {np.argmax(y_pred)} | True label: {np.argmax(y_test[sample_idx])}\"\n",
    "    )\n",
    "    plt.axis(\"off\")\n",
    "    plt.show()"
   ]
  },
  {
   "cell_type": "code",
   "execution_count": 550,
   "id": "2be3b47b-169a-486f-82c3-a8f90e96faeb",
   "metadata": {},
   "outputs": [
    {
     "data": {
      "image/png": "[encoded data removed]",
      "text/plain": [
       "<Figure size 640x480 with 1 Axes>"
      ]
     },
     "metadata": {},
     "output_type": "display_data"
    }
   ],
   "source": [
    "visualize_prediction(model, x_test, y_test, 13)"
   ]
  },
  {
   "cell_type": "markdown",
   "id": "cad6e157-c0eb-4498-b7f5-82f7111fe67e",
   "metadata": {},
   "source": [
    "# Great Success! Very nice!"
   ]
  }
 ],
 "metadata": {
  "kernelspec": {
   "display_name": "Python 3 (ipykernel)",
   "language": "python",
   "name": "python3"
  },
  "language_info": {
   "codemirror_mode": {
    "name": "ipython",
    "version": 3
   },
   "file_extension": ".py",
   "mimetype": "text/x-python",
   "name": "python",
   "nbconvert_exporter": "python",
   "pygments_lexer": "ipython3",
   "version": "3.11.10"
  }
 },
 "nbformat": 4,
 "nbformat_minor": 5
}
